{
 "cells": [
  {
   "cell_type": "code",
   "execution_count": 2,
   "metadata": {},
   "outputs": [
    {
     "ename": "UnicodeEncodeError",
     "evalue": "'charmap' codec can't encode character '\\u2032' in position 1: character maps to <undefined>",
     "output_type": "error",
     "traceback": [
      "\u001b[1;31m---------------------------------------------------------------------------\u001b[0m",
      "\u001b[1;31mUnicodeEncodeError\u001b[0m                        Traceback (most recent call last)",
      "\u001b[1;32m<ipython-input-2-a98c5fb27c17>\u001b[0m in \u001b[0;36m<module>\u001b[1;34m\u001b[0m\n\u001b[0;32m     41\u001b[0m \u001b[1;33m\u001b[0m\u001b[0m\n\u001b[0;32m     42\u001b[0m \u001b[0mquotes\u001b[0m \u001b[1;33m=\u001b[0m \u001b[0mscrape_quotes\u001b[0m\u001b[1;33m(\u001b[0m\u001b[1;33m)\u001b[0m\u001b[1;33m\u001b[0m\u001b[1;33m\u001b[0m\u001b[0m\n\u001b[1;32m---> 43\u001b[1;33m \u001b[0mwrite_quotes\u001b[0m\u001b[1;33m(\u001b[0m\u001b[0mquotes\u001b[0m\u001b[1;33m)\u001b[0m\u001b[1;33m\u001b[0m\u001b[1;33m\u001b[0m\u001b[0m\n\u001b[0m",
      "\u001b[1;32m<ipython-input-2-a98c5fb27c17>\u001b[0m in \u001b[0;36mwrite_quotes\u001b[1;34m(quotes)\u001b[0m\n\u001b[0;32m     38\u001b[0m         \u001b[0mcsv_writer\u001b[0m\u001b[1;33m.\u001b[0m\u001b[0mwriteheader\u001b[0m\u001b[1;33m(\u001b[0m\u001b[1;33m)\u001b[0m\u001b[1;33m\u001b[0m\u001b[1;33m\u001b[0m\u001b[0m\n\u001b[0;32m     39\u001b[0m         \u001b[1;32mfor\u001b[0m \u001b[0mquote\u001b[0m \u001b[1;32min\u001b[0m \u001b[0mquotes\u001b[0m\u001b[1;33m:\u001b[0m\u001b[1;33m\u001b[0m\u001b[1;33m\u001b[0m\u001b[0m\n\u001b[1;32m---> 40\u001b[1;33m             \u001b[0mcsv_writer\u001b[0m\u001b[1;33m.\u001b[0m\u001b[0mwriterow\u001b[0m\u001b[1;33m(\u001b[0m\u001b[0mquote\u001b[0m\u001b[1;33m)\u001b[0m\u001b[1;33m\u001b[0m\u001b[1;33m\u001b[0m\u001b[0m\n\u001b[0m\u001b[0;32m     41\u001b[0m \u001b[1;33m\u001b[0m\u001b[0m\n\u001b[0;32m     42\u001b[0m \u001b[0mquotes\u001b[0m \u001b[1;33m=\u001b[0m \u001b[0mscrape_quotes\u001b[0m\u001b[1;33m(\u001b[0m\u001b[1;33m)\u001b[0m\u001b[1;33m\u001b[0m\u001b[1;33m\u001b[0m\u001b[0m\n",
      "\u001b[1;32mC:\\ProgramData\\Anaconda3\\lib\\csv.py\u001b[0m in \u001b[0;36mwriterow\u001b[1;34m(self, rowdict)\u001b[0m\n\u001b[0;32m    153\u001b[0m \u001b[1;33m\u001b[0m\u001b[0m\n\u001b[0;32m    154\u001b[0m     \u001b[1;32mdef\u001b[0m \u001b[0mwriterow\u001b[0m\u001b[1;33m(\u001b[0m\u001b[0mself\u001b[0m\u001b[1;33m,\u001b[0m \u001b[0mrowdict\u001b[0m\u001b[1;33m)\u001b[0m\u001b[1;33m:\u001b[0m\u001b[1;33m\u001b[0m\u001b[1;33m\u001b[0m\u001b[0m\n\u001b[1;32m--> 155\u001b[1;33m         \u001b[1;32mreturn\u001b[0m \u001b[0mself\u001b[0m\u001b[1;33m.\u001b[0m\u001b[0mwriter\u001b[0m\u001b[1;33m.\u001b[0m\u001b[0mwriterow\u001b[0m\u001b[1;33m(\u001b[0m\u001b[0mself\u001b[0m\u001b[1;33m.\u001b[0m\u001b[0m_dict_to_list\u001b[0m\u001b[1;33m(\u001b[0m\u001b[0mrowdict\u001b[0m\u001b[1;33m)\u001b[0m\u001b[1;33m)\u001b[0m\u001b[1;33m\u001b[0m\u001b[1;33m\u001b[0m\u001b[0m\n\u001b[0m\u001b[0;32m    156\u001b[0m \u001b[1;33m\u001b[0m\u001b[0m\n\u001b[0;32m    157\u001b[0m     \u001b[1;32mdef\u001b[0m \u001b[0mwriterows\u001b[0m\u001b[1;33m(\u001b[0m\u001b[0mself\u001b[0m\u001b[1;33m,\u001b[0m \u001b[0mrowdicts\u001b[0m\u001b[1;33m)\u001b[0m\u001b[1;33m:\u001b[0m\u001b[1;33m\u001b[0m\u001b[1;33m\u001b[0m\u001b[0m\n",
      "\u001b[1;32mC:\\ProgramData\\Anaconda3\\lib\\encodings\\cp1252.py\u001b[0m in \u001b[0;36mencode\u001b[1;34m(self, input, final)\u001b[0m\n\u001b[0;32m     17\u001b[0m \u001b[1;32mclass\u001b[0m \u001b[0mIncrementalEncoder\u001b[0m\u001b[1;33m(\u001b[0m\u001b[0mcodecs\u001b[0m\u001b[1;33m.\u001b[0m\u001b[0mIncrementalEncoder\u001b[0m\u001b[1;33m)\u001b[0m\u001b[1;33m:\u001b[0m\u001b[1;33m\u001b[0m\u001b[1;33m\u001b[0m\u001b[0m\n\u001b[0;32m     18\u001b[0m     \u001b[1;32mdef\u001b[0m \u001b[0mencode\u001b[0m\u001b[1;33m(\u001b[0m\u001b[0mself\u001b[0m\u001b[1;33m,\u001b[0m \u001b[0minput\u001b[0m\u001b[1;33m,\u001b[0m \u001b[0mfinal\u001b[0m\u001b[1;33m=\u001b[0m\u001b[1;32mFalse\u001b[0m\u001b[1;33m)\u001b[0m\u001b[1;33m:\u001b[0m\u001b[1;33m\u001b[0m\u001b[1;33m\u001b[0m\u001b[0m\n\u001b[1;32m---> 19\u001b[1;33m         \u001b[1;32mreturn\u001b[0m \u001b[0mcodecs\u001b[0m\u001b[1;33m.\u001b[0m\u001b[0mcharmap_encode\u001b[0m\u001b[1;33m(\u001b[0m\u001b[0minput\u001b[0m\u001b[1;33m,\u001b[0m\u001b[0mself\u001b[0m\u001b[1;33m.\u001b[0m\u001b[0merrors\u001b[0m\u001b[1;33m,\u001b[0m\u001b[0mencoding_table\u001b[0m\u001b[1;33m)\u001b[0m\u001b[1;33m[\u001b[0m\u001b[1;36m0\u001b[0m\u001b[1;33m]\u001b[0m\u001b[1;33m\u001b[0m\u001b[1;33m\u001b[0m\u001b[0m\n\u001b[0m\u001b[0;32m     20\u001b[0m \u001b[1;33m\u001b[0m\u001b[0m\n\u001b[0;32m     21\u001b[0m \u001b[1;32mclass\u001b[0m \u001b[0mIncrementalDecoder\u001b[0m\u001b[1;33m(\u001b[0m\u001b[0mcodecs\u001b[0m\u001b[1;33m.\u001b[0m\u001b[0mIncrementalDecoder\u001b[0m\u001b[1;33m)\u001b[0m\u001b[1;33m:\u001b[0m\u001b[1;33m\u001b[0m\u001b[1;33m\u001b[0m\u001b[0m\n",
      "\u001b[1;31mUnicodeEncodeError\u001b[0m: 'charmap' codec can't encode character '\\u2032' in position 1: character maps to <undefined>"
     ]
    }
   ],
   "source": [
    "#http://quotes.toscrape.com\n",
    "import requests\n",
    "from bs4 import BeautifulSoup\n",
    "from time import sleep\n",
    "from random import choice\n",
    "from csv import DictWriter\n",
    "\n",
    "\n",
    "base_url = \"http://quotes.toscrape.com\"\n",
    "\n",
    "\n",
    "def scrape_quotes():\n",
    "    all_quotes = []\n",
    "    url = \"/page/1\"\n",
    "    while url:\n",
    "        response = requests.get(f\"{base_url}{url}\")\n",
    "        #print(f\"Now scraping data from {base_url}{url}.............\")\n",
    "        soup = BeautifulSoup(response.text,\"html.parser\")\n",
    "        quotes = soup.find_all(class_ = \"quote\")\n",
    "\n",
    "\n",
    "        for quote in quotes:\n",
    "            all_quotes.append({\"text\":quote.find(class_ = \"text\").get_text(),\n",
    "                           \"author\":quote.find(class_ = \"author\").get_text(),\n",
    "                           \"bio_link\":quote.find(\"a\")[\"href\"]})\n",
    "\n",
    "        next_btn = soup.find(class_ = \"next\")\n",
    "        url = next_btn.find(\"a\")[\"href\"] if next_btn else None\n",
    "        #sleep(1)\n",
    "    return all_quotes\n",
    "    \n",
    "\n",
    "#write quotes to csv file\n",
    "def write_quotes(quotes):\n",
    "    with open(\"quot.csv\" , \"w\") as file:\n",
    "        header = [\"text\",\"author\", \"bio_link\"]\n",
    "        csv_writer = DictWriter(file , fieldnames = header)\n",
    "        csv_writer.writeheader()\n",
    "        for quote in quotes:\n",
    "            csv_writer.writerow(quote)\n",
    "                        \n",
    "quotes = scrape_quotes()\n",
    "write_quotes(quotes)"
   ]
  },
  {
   "cell_type": "code",
   "execution_count": null,
   "metadata": {},
   "outputs": [
    {
     "name": "stdout",
     "output_type": "stream",
     "text": [
      "Here's a quote:\n",
      "“If you can't explain it to a six year old, you don't understand it yourself.”\n",
      "Albert Einstein\n",
      "Guess who said this quote? Guesses remaining 4\n",
      "dfzsd\n",
      "Here's the hint: The author was born on March 14, 1879 in Ulm, Germany\n",
      "Guess who said this quote? Guesses remaining 3\n",
      "dsgvf\n",
      "Here's the hint: The author's first name starts with: A\n",
      "Guess who said this quote? Guesses remaining 2\n",
      "dfgd\n",
      "Here's the hint: The author's last name starts with: E\n",
      "Guess who said this quote? Guesses remaining 1\n",
      "gfdx\n",
      "hey your guesses are over. The answer was Albert Einstein\n",
      "Hey do you want to play again?(y/n)fghb\n",
      "Hey do you want to play again?(y/n)f\n",
      "Hey do you want to play again?(y/n)dr\n",
      "Hey do you want to play again?(y/n)7\n",
      "Hey do you want to play again?(y/n)y\n",
      "Here's a quote:\n",
      "“It takes courage to grow up and become who you really are.”\n",
      "E.E. Cummings\n",
      "Guess who said this quote? Guesses remaining 4\n",
      "dks\n",
      "Here's the hint: The author was born on October 14, 1894 in Cambridge, Massachusetts, The United States\n",
      "Guess who said this quote? Guesses remaining 3\n",
      "ddrsg\n",
      "Here's the hint: The author's first name starts with: E\n",
      "Guess who said this quote? Guesses remaining 2\n",
      "E.E. Cumming\n",
      "Here's the hint: The author's last name starts with: C\n",
      "Guess who said this quote? Guesses remaining 1\n",
      "E.E. Cummings\n",
      "Hey you got it.Congo!\n",
      "Hey do you want to play again?(y/n)yes\n",
      "Here's a quote:\n",
      "“The difference between genius and stupidity is: genius has its limits.”\n",
      "Alexandre Dumas fils\n",
      "Guess who said this quote? Guesses remaining 4\n",
      "Alexandre Dumas fils\n",
      "Hey you got it.Congo!\n",
      "Hey do you want to play again?(y/n)y\n",
      "Here's a quote:\n",
      "“Think left and think right and think low and think high. Oh, the thinks you can think up if only you try!”\n",
      "Dr. Seuss\n",
      "Guess who said this quote? Guesses remaining 4\n",
      "Dr. Seuss\n",
      "Hey you got it.Congo!\n",
      "Hey do you want to play again?(y/n)y\n",
      "Here's a quote:\n",
      "“I like nonsense, it wakes up the brain cells. Fantasy is a necessary ingredient in living.”\n",
      "Dr. Seuss\n",
      "Guess who said this quote? Guesses remaining 4\n",
      "Dr. Seuss\n",
      "Hey you got it.Congo!\n",
      "Hey do you want to play again?(y/n)y\n",
      "Here's a quote:\n",
      "“It is our choices, Harry, that show what we truly are, far more than our abilities.”\n",
      "J.K. Rowling\n",
      "Guess who said this quote? Guesses remaining 4\n",
      "J.K. Rowling\n",
      "Hey you got it.Congo!\n",
      "Hey do you want to play again?(y/n)y\n",
      "Here's a quote:\n",
      "“That's the problem with drinking, I thought, as I poured myself a drink. If something bad happens you drink in an attempt to forget; if something good happens you drink in order to celebrate; and if nothing happens you drink to make something happen.”\n",
      "Charles Bukowski\n"
     ]
    }
   ],
   "source": [
    "def start_game(quotes):\n",
    "    quote = choice(quotes)\n",
    "    remaining_guess = 4\n",
    "    print(\"Here's a quote:\")\n",
    "    print(quote[\"text\"])\n",
    "    print(quote[\"author\"])\n",
    "    guess = ''\n",
    "\n",
    "    while guess.lower() != quote[\"author\"].lower() and remaining_guess > 0:#will run for 4,3,2,1 if your answer matches break the loop\n",
    "        guess = input(f\"Guess who said this quote? Guesses remaining {remaining_guess}\\n\")#will ask 4 times for wrng guess\n",
    "        if guess.lower() == quote[\"author\"].lower():\n",
    "            print(\"Hey you got it.Congo!\")\n",
    "            break\n",
    "        remaining_guess -= 1\n",
    "        if remaining_guess == 3: #------------------------------------------------------first answer is incorrect\n",
    "            response = requests.get(f\"{base_url}{quote['bio_link']}\")\n",
    "            soup = BeautifulSoup(response.text,\"html.parser\")\n",
    "            birth_date = soup.find(class_ = \"author-born-date\").get_text()\n",
    "            birth_loc = soup.find(class_ = \"author-born-location\").get_text()\n",
    "            print(f\"Here's the hint: The author was born on {birth_date} {birth_loc}\")\n",
    "        elif remaining_guess == 2:#------------------------------------------------------second answer is incorrect\n",
    "            print(f\"Here's the hint: The author's first name starts with: {quote['author'][0]}\")\n",
    "        elif remaining_guess == 1:#------------------------------------------------------third answer is incorrect\n",
    "            last_name = quote[\"author\"].split(\" \")[1][0]\n",
    "            print(f\"Here's the hint: The author's last name starts with: {last_name}\")\n",
    "        else:\n",
    "            print(f\"hey your guesses are over. The answer was {quote['author']}\")\n",
    "\n",
    "    #print(\"out of loop\")-----------------------------------------------------------------------------------------------------------------\n",
    "\n",
    "    play_again = ' '\n",
    "    while play_again.lower() not in('y','yes','no','n'):#------------------------when player wants to play or exit break loop otherwise keep on asking \n",
    "        play_again = input(\"Hey do you want to play again?(y/n)\")  \n",
    "    if play_again.lower() in ('yes','y'):\n",
    "        return start_game(quotes)\n",
    "    else:\n",
    "        print(\"okay goodbye\")\n",
    "                  \n",
    "                  \n",
    "quotes = scrape_quotes()                  \n",
    "start_game(quotes)"
   ]
  },
  {
   "cell_type": "code",
   "execution_count": 1,
   "metadata": {},
   "outputs": [
    {
     "name": "stdout",
     "output_type": "stream",
     "text": [
      "hello\n"
     ]
    }
   ],
   "source": [
    "print(\"hello\")"
   ]
  },
  {
   "cell_type": "code",
   "execution_count": null,
   "metadata": {},
   "outputs": [],
   "source": [
    "print(\"hello\")"
   ]
  },
  {
   "cell_type": "code",
   "execution_count": null,
   "metadata": {},
   "outputs": [],
   "source": []
  }
 ],
 "metadata": {
  "kernelspec": {
   "display_name": "Python 3",
   "language": "python",
   "name": "python3"
  },
  "language_info": {
   "codemirror_mode": {
    "name": "ipython",
    "version": 3
   },
   "file_extension": ".py",
   "mimetype": "text/x-python",
   "name": "python",
   "nbconvert_exporter": "python",
   "pygments_lexer": "ipython3",
   "version": "3.7.3"
  }
 },
 "nbformat": 4,
 "nbformat_minor": 2
}
