{
 "cells": [
  {
   "cell_type": "code",
   "execution_count": null,
   "metadata": {},
   "outputs": [],
   "source": [
    "#http://quotes.toscrape.com\n",
    "import requests\n",
    "from bs4 import BeautifulSoup\n",
    "from time import sleep\n",
    "from random import choice\n",
    "from csv import DictWriter\n",
    "\n",
    "\n",
    "base_url = \"http://quotes.toscrape.com\"\n",
    "\n",
    "\n",
    "def scrape_quotes():\n",
    "    all_quotes = []\n",
    "    url = \"/page/1\"\n",
    "    while url:\n",
    "        response = requests.get(f\"{base_url}{url}\")\n",
    "        #print(f\"Now scraping data from {base_url}{url}.............\")\n",
    "        soup = BeautifulSoup(response.text,\"html.parser\")\n",
    "        quotes = soup.find_all(class_ = \"quote\")\n",
    "\n",
    "\n",
    "        for quote in quotes:\n",
    "            all_quotes.append({\"text\":quote.find(class_ = \"text\").get_text(),\n",
    "                           \"author\":quote.find(class_ = \"author\").get_text(),\n",
    "                           \"bio_link\":quote.find(\"a\")[\"href\"]})\n",
    "\n",
    "        next_btn = soup.find(class_ = \"next\")\n",
    "        url = next_btn.find(\"a\")[\"href\"] if next_btn else None\n",
    "        sleep(1)\n",
    "    return all_quotes\n",
    "    \n",
    "\n",
    "#write quotes to csv file\n",
    "def writer_quotes(quotes):\n",
    "    with open(\"quot.csv\" , \"w\") as file:\n",
    "        header = [\"text\",\"author\", \"bio_link\"]\n",
    "        csv_writer = DictWriter(file , fieldnames = header)\n",
    "        csv_writer.writeheader()\n",
    "        for quote in quotes:\n",
    "            csv_writer.writerow(quote)\n",
    "            \n",
    "            \n",
    "quotes = scrape_quotes()\n",
    "write_quotes(quotes)"
   ]
  },
  {
   "cell_type": "code",
   "execution_count": null,
   "metadata": {},
   "outputs": [
    {
     "name": "stdout",
     "output_type": "stream",
     "text": [
      "Here's a quote:\n",
      "“The world as we have created it is a process of our thinking. It cannot be changed without changing our thinking.”\n",
      "Albert Einstein\n"
     ]
    }
   ],
   "source": [
    "def start_game(quotes):\n",
    "    quote = choice(quotes)\n",
    "    remaining_guess = 4\n",
    "    print(\"Here's a quote:\")\n",
    "    print(quote[\"text\"])\n",
    "    print(quote[\"author\"])\n",
    "    guess = ''\n",
    "\n",
    "    while guess.lower() != quote[\"author\"].lower() and remaining_guess > 0:#will run for 4,3,2,1 if your answer matches break the loop\n",
    "        guess = input(f\"Guess who said this quote? Guesses remaining {remaining_guess}\\n\")#will ask 4 times for wrng guess\n",
    "        if guess.lower() == quote[\"author\"].lower():\n",
    "            print(\"Hey you got it.Congo!\")\n",
    "            break\n",
    "        remaining_guess -= 1\n",
    "        if remaining_guess == 3: #------------------------------------------------------first answer is incorrect\n",
    "            response = requests.get(f\"{base_url}{quote['bio_link']}\")\n",
    "            soup = BeautifulSoup(response.text,\"html.parser\")\n",
    "            birth_date = soup.find(class_ = \"author-born-date\").get_text()\n",
    "            birth_loc = soup.find(class_ = \"author-born-location\").get_text()\n",
    "            print(f\"Here's the hint: The author was born on {birth_date} {birth_loc}\")\n",
    "        elif remaining_guess == 2:#------------------------------------------------------second answer is incorrect\n",
    "            print(f\"Here's the hint: The author's first name starts with: {quote['author'][0]}\")\n",
    "        elif remaining_guess == 1:#------------------------------------------------------third answer is incorrect\n",
    "            last_name = quote[\"author\"].split(\" \")[1][0]\n",
    "            print(f\"Here's the hint: The author's last name starts with: {last_name}\")\n",
    "        else:\n",
    "            print(f\"hey your guesses are over. The answer was {quote['author']}\")\n",
    "\n",
    "    #print(\"out of loop\")-----------------------------------------------------------------------------------------------------------------\n",
    "\n",
    "    play_again = ' '\n",
    "    while play_again.lower() not in('y','yes','no','n'):#------------------------when player wants to play or exit break loop otherwise keep on asking \n",
    "        play_again = input(\"Hey do you want to play again?(y/n)\")  \n",
    "    if play_again.lower() in ('yes','y'):\n",
    "        return start_game(quotes)\n",
    "    else:\n",
    "        print(\"okay goodbye\")\n",
    "                  \n",
    "                  \n",
    "quotes = scrape_quotes()                  \n",
    "start_game(quotes)"
   ]
  },
  {
   "cell_type": "code",
   "execution_count": null,
   "metadata": {},
   "outputs": [],
   "source": [
    "print(\"hello\")"
   ]
  },
  {
   "cell_type": "code",
   "execution_count": null,
   "metadata": {},
   "outputs": [],
   "source": []
  }
 ],
 "metadata": {
  "kernelspec": {
   "display_name": "Python 3",
   "language": "python",
   "name": "python3"
  },
  "language_info": {
   "codemirror_mode": {
    "name": "ipython",
    "version": 3
   },
   "file_extension": ".py",
   "mimetype": "text/x-python",
   "name": "python",
   "nbconvert_exporter": "python",
   "pygments_lexer": "ipython3",
   "version": "3.7.3"
  }
 },
 "nbformat": 4,
 "nbformat_minor": 2
}
