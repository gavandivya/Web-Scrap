{
 "cells": [
  {
   "cell_type": "code",
   "execution_count": 24,
   "metadata": {},
   "outputs": [
    {
     "name": "stdout",
     "output_type": "stream",
     "text": [
      "16\n",
      "64\n"
     ]
    }
   ],
   "source": [
    "#function1\n",
    "def square(num):\n",
    "    return num * num\n",
    "print(square(4))              #1 arguement\n",
    "print(square(8))"
   ]
  },
  {
   "cell_type": "code",
   "execution_count": 8,
   "metadata": {},
   "outputs": [
    {
     "name": "stdout",
     "output_type": "stream",
     "text": [
      "Happy Birthday to you\n",
      "Happy Birthday to you\n",
      "Happy Birthday Dear Divya\n",
      "Happy Birthday to you\n",
      "Happy Birthday to you\n",
      "Happy Birthday to you\n",
      "Happy Birthday Dear Disha\n",
      "Happy Birthday to you\n"
     ]
    }
   ],
   "source": [
    "#function2\n",
    "def sing_happy_birthday(name):\n",
    "    print(\"Happy Birthday to you\")\n",
    "    print(\"Happy Birthday to you\")\n",
    "    print(f\"Happy Birthday Dear {name}\")\n",
    "    print(\"Happy Birthday to you\")\n",
    "sing_happy_birthday(\"Divya\")   \n",
    "sing_happy_birthday(\"Disha\")\n",
    "    "
   ]
  },
  {
   "cell_type": "code",
   "execution_count": 16,
   "metadata": {},
   "outputs": [
    {
     "name": "stdout",
     "output_type": "stream",
     "text": [
      "9\n",
      "1\n",
      "20\n",
      "1.25\n"
     ]
    }
   ],
   "source": [
    "#function3\n",
    "def arithmetic(a,b):\n",
    "    print(a+b)                       #2 arguement\n",
    "    print(a-b) \n",
    "    print(a*b)\n",
    "    print(a/b)\n",
    "arithmetic(5,4)\n"
   ]
  },
  {
   "cell_type": "code",
   "execution_count": 22,
   "metadata": {},
   "outputs": [
    {
     "data": {
      "text/plain": [
       "'Hey your full name is Divya Gavandi'"
      ]
     },
     "execution_count": 22,
     "metadata": {},
     "output_type": "execute_result"
    }
   ],
   "source": [
    "#function4\n",
    "def fill_name(fn,ln):#parameter\n",
    "    return(f\"Hey your full name is {fn} {ln}\")\n",
    "fill_name(\"Divya\",\"Gavandi\")#arguements"
   ]
  },
  {
   "cell_type": "code",
   "execution_count": 31,
   "metadata": {},
   "outputs": [
    {
     "name": "stdout",
     "output_type": "stream",
     "text": [
      "16\n"
     ]
    }
   ],
   "source": [
    "def sum_of_odd_num(numbers):\n",
    "    total = 0\n",
    "    for i in numbers:\n",
    "        if i % 2 != 0:\n",
    "            total += i\n",
    "    return total\n",
    "print(sum_of_odd_num([1,2,3,4,5,6,7]))"
   ]
  },
  {
   "cell_type": "code",
   "execution_count": 45,
   "metadata": {},
   "outputs": [
    {
     "name": "stdout",
     "output_type": "stream",
     "text": [
      "True\n",
      "False\n",
      "True\n",
      "False\n"
     ]
    }
   ],
   "source": [
    "def is_num_odd(num):\n",
    "    if num %2 != 0:\n",
    "        return True\n",
    "    return False\n",
    "print(is_num_odd(1))\n",
    "print(is_num_odd(6))\n",
    "print(is_num_odd(5))\n",
    "print(is_num_odd(2))"
   ]
  },
  {
   "cell_type": "code",
   "execution_count": 47,
   "metadata": {},
   "outputs": [
    {
     "name": "stdout",
     "output_type": "stream",
     "text": [
      "Hi\n"
     ]
    }
   ],
   "source": [
    "def say_hi():         #0 arguement\n",
    "    print(\"Hi\")\n",
    "say_hi()"
   ]
  },
  {
   "cell_type": "code",
   "execution_count": 51,
   "metadata": {},
   "outputs": [
    {
     "name": "stdout",
     "output_type": "stream",
     "text": [
      "16\n",
      "64\n",
      "8\n",
      "25\n"
     ]
    }
   ],
   "source": [
    "#default parameter it takes 2 as by default vallue\n",
    "def expo(num,power=2):\n",
    "    return num ** power\n",
    "print(expo(2,4))\n",
    "print(expo(8))\n",
    "print(expo(2,3))\n",
    "print(expo(5))"
   ]
  },
  {
   "cell_type": "code",
   "execution_count": 74,
   "metadata": {},
   "outputs": [
    {
     "name": "stdout",
     "output_type": "stream",
     "text": [
      "60\n",
      "50\n",
      "49\n"
     ]
    }
   ],
   "source": [
    "def add(a=10,b=50):\n",
    "    return a+b \n",
    "print(add())\n",
    "print(add(20,30))\n",
    "print(add(20,29))"
   ]
  },
  {
   "cell_type": "code",
   "execution_count": 76,
   "metadata": {},
   "outputs": [
    {
     "name": "stdout",
     "output_type": "stream",
     "text": [
      "Welcome back instructor Divya\n",
      "Welcome divya I thought you are instructor\n",
      "Hello Disha\n"
     ]
    }
   ],
   "source": [
    "def show_info(fn = \"Divya\", is_instructor = False):#default params avoids error\n",
    "    if fn == \"Divya\" and is_instructor:\n",
    "        return\"Welcome back instructor Divya\" \n",
    "    elif fn ==\"Divya\":\n",
    "        return\"Welcome divya I thought you are instructor\"\n",
    "    return f\"Hello {fn}\"\n",
    "print(show_info(\"Divya\",True))\n",
    "print(show_info())\n",
    "print(show_info(\"Disha\",True))"
   ]
  },
  {
   "cell_type": "code",
   "execution_count": 98,
   "metadata": {},
   "outputs": [
    {
     "name": "stdout",
     "output_type": "stream",
     "text": [
      "0.2449408209840872\n",
      "Tails\n"
     ]
    }
   ],
   "source": [
    "from random import random\n",
    "def flip_coin():\n",
    "    r = random()\n",
    "    print(r)\n",
    "    if r > 0.5:\n",
    "        return \"Heads\"\n",
    "    return \"Tails\"\n",
    "print(flip_coin())"
   ]
  },
  {
   "cell_type": "code",
   "execution_count": null,
   "metadata": {},
   "outputs": [],
   "source": [
    "instructor1 = \"Divya\"\n",
    "def say_hello():\n",
    "    return f\"Hello {instructor1}\"\n",
    "say_hello()\n",
    "\n",
    "print(instructor1)"
   ]
  },
  {
   "cell_type": "code",
   "execution_count": null,
   "metadata": {},
   "outputs": [],
   "source": [
    "total = 0  #global cant be accesed in function\n",
    "\n",
    "def increment():\n",
    "    global total #-----------------------------so we have to add global keyword with var name this is to be done when you have to make  changes in var\n",
    "    total += 1\n",
    "    return total\n",
    "print(increment())"
   ]
  },
  {
   "cell_type": "code",
   "execution_count": null,
   "metadata": {},
   "outputs": [],
   "source": [
    "def outer():\n",
    "    count = 0\n",
    "    def inner():\n",
    "        nonlocal count# used nonocal var is defined in some other function parent function\n",
    "        count += 1\n",
    "        return count\n",
    "    return inner()"
   ]
  },
  {
   "cell_type": "code",
   "execution_count": null,
   "metadata": {},
   "outputs": [],
   "source": [
    "def say_hello():\n",
    "    \"\"\"this is a program for saying a simple hello\"\"\"\n",
    "    return \"hello!\"\n",
    "say_hello.__doc__"
   ]
  },
  {
   "cell_type": "code",
   "execution_count": null,
   "metadata": {},
   "outputs": [],
   "source": [
    "import random\n",
    "player_score = 0\n",
    "computer_score = 0\n",
    "def display():\n",
    "    global player_score\n",
    "    global computer_score\n",
    "    print(f\"Player score:{player_wins} Computer score:{computer_wins}\")\n",
    "    print(\"Rock - Paper - Scissor\")\n",
    "    \n",
    "    \n",
    "def computer_move_randomly():\n",
    "    random_no = randint(0,2)\n",
    "    if(random_no == 0):\n",
    "        print(\"Computer selects Rock\")\n",
    "    elif(random_no == 1):\n",
    "        print(\"Computer selects Paper\")\n",
    "    print(\"Computer selects Scissor\")\n",
    "#----------------------------------------------------------------------------------------------------------------------    \n",
    "    \n",
    "def cal_winner(player_input,computer_input):\n",
    "    global player_score\n",
    "    global computer_score\n",
    "#----------------------------------------------------selects same------------------------------------------------------    \n",
    "    \n",
    "    if player == computer:\n",
    "        print(\"Its a tie\")\n",
    "#---------------------------------------------------player selects rock-------------------------------------------------    \n",
    "    if player == \"rock\" and computer == \"paper\":\n",
    "        print(\"Computer wins\")\n",
    "        computer_score += computer_score\n",
    "    print(\"Player wins\")\n",
    "    player_score += player_score\n",
    "\n",
    "#--------------------------------------------------player selects paper------------------------------------------------\n",
    "    \n",
    "    if player == \"paper\" and computer == \"scissor\":\n",
    "        print(\"Computer wins\")\n",
    "        computer_score += computer_score\n",
    "    print(\"Player wins\")\n",
    "    player_score += player_score\n",
    "    \n",
    "#--------------------------------------------------player selects scissor-----------------------------------------------    \n",
    "    if player == \"scissor\" and computer == \"rock\":\n",
    "        print(\"Computer wins\")\n",
    "        computer_score += computer_score\n",
    "    print(\"Player wins\")\n",
    "    player_score += player_score\n",
    "#----------------------------------------------------------------------------------------------------------------------\n",
    "        \n",
    "          \n",
    "        \n",
    "def start(stop):\n",
    "    while player_score  and computer_score < stop:\n",
    "        display()\n",
    "        print(\"Select any one from above\")\n",
    "        player_input = input()\n",
    "        if player_input == 0:\n",
    "            break\n",
    "        computer_input = computer_move_randomly()\n",
    "        cal_winner(player_input,computer_input)\n",
    "    \n",
    "def winner_of_game():\n",
    "    if player_score > computer_score:\n",
    "        print(\"Hey congo,you won\")\n",
    "    elif player_score < computer_score:\n",
    "        print(\"Hey you lose better luck next time\")\n",
    "    print(\"Its a tie...\")\n",
    "\n",
    "\n",
    "    \n",
    "start(5)\n",
    "winner_of_game()\n",
    "\n",
    "\n",
    "\n",
    "\n",
    "\n",
    "    "
   ]
  },
  {
   "cell_type": "code",
   "execution_count": null,
   "metadata": {},
   "outputs": [],
   "source": [
    "#funstion video ----------------------------------2\n",
    "def sum_of_all_num(*args):\n",
    "    total = 0\n",
    "    for num in args:\n",
    "        total += num\n",
    "    return total\n",
    "\n",
    "print(sum_of_all_num(2,3,4,5,6,3))"
   ]
  },
  {
   "cell_type": "code",
   "execution_count": null,
   "metadata": {},
   "outputs": [],
   "source": [
    "from turtle import Turtle \n",
    "t = Turtle()\n",
    "t.speed(0)\n",
    "b = 180\n",
    "for c in range (5):\n",
    "    a = 9*c\n",
    "    for i in range (100):\n",
    "        t.circle(i,a)\n",
    "        t.right(b)\n",
    "        t.circle(i,a)\n",
    "        t.right(b)\n",
    "        t.circle(i,a)\n",
    "        t.right(b)\n",
    "        t.circle(i,a)\n",
    "input(\"press any key\")\n",
    "        "
   ]
  },
  {
   "cell_type": "code",
   "execution_count": null,
   "metadata": {},
   "outputs": [],
   "source": [
    "import random\n",
    "computer_input = [\"rock\",\"paper\",\"scissor\"]\n",
    "result = computer_input[random.randint(0,2)]\n",
    "game = False\n",
    "print(\"please press 0 if you want to quit\")\n",
    "while game == False:\n",
    "    player = input(\"hey please enter your choice\")\n",
    "    if player == result:\n",
    "        print(\"its a tie\")\n",
    "    elif player == \"rock\": \n",
    "        if result == \"paper\":\n",
    "            print(\"you won\")\n",
    "        print(\"you lose\")\n",
    "    \n",
    "    \n",
    "    elif player == \"paper\":\n",
    "        if result == \"scissorr\":\n",
    "            print(\"you won\")\n",
    "        print(\"you lose\")\n",
    "    \n",
    "    \n",
    "    elif player == \"scissor\":\n",
    "        if result == \"rock\":\n",
    "            print(\"you won\")\n",
    "        print(\"you lose\")\n",
    "    \n",
    "    elif player == 0:\n",
    "        print(\"thanks for playing\")\n",
    "        game = True\n",
    "    result = computer_input[random.randint(0,2)]"
   ]
  },
  {
   "cell_type": "code",
   "execution_count": null,
   "metadata": {},
   "outputs": [],
   "source": [
    "print(\"hello\")"
   ]
  },
  {
   "cell_type": "code",
   "execution_count": null,
   "metadata": {},
   "outputs": [],
   "source": []
  },
  {
   "cell_type": "code",
   "execution_count": null,
   "metadata": {},
   "outputs": [],
   "source": []
  },
  {
   "cell_type": "code",
   "execution_count": null,
   "metadata": {},
   "outputs": [],
   "source": []
  },
  {
   "cell_type": "code",
   "execution_count": null,
   "metadata": {},
   "outputs": [],
   "source": []
  },
  {
   "cell_type": "code",
   "execution_count": null,
   "metadata": {},
   "outputs": [],
   "source": []
  },
  {
   "cell_type": "code",
   "execution_count": null,
   "metadata": {},
   "outputs": [],
   "source": []
  },
  {
   "cell_type": "code",
   "execution_count": null,
   "metadata": {},
   "outputs": [],
   "source": []
  },
  {
   "cell_type": "code",
   "execution_count": null,
   "metadata": {},
   "outputs": [],
   "source": []
  }
 ],
 "metadata": {
  "kernelspec": {
   "display_name": "Python 3",
   "language": "python",
   "name": "python3"
  }
 },
 "nbformat": 4,
 "nbformat_minor": 2
}
