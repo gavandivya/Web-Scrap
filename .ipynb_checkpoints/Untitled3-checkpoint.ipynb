{
 "cells": [
  {
   "cell_type": "code",
   "execution_count": 8,
   "metadata": {},
   "outputs": [],
   "source": [
    "#-------------------------single row insertion---------------------------------------------\n",
    "import sqlite3\n",
    "conn = sqlite3.connect(\"my_friends.db\")\n",
    "#insert into db\n",
    "\n",
    "#cursor is temp workarea for sql comments\n",
    "#create cursor object \n",
    "c = conn.cursor()\n",
    "#execute some sql\n",
    "#------------c.execute(\"CREATE TABLE abcde(firstname TEXT,lastname TEXT,closeness INTEGER);\")----------table created\n",
    "#-------------------------------------------------------------------------------------------------------------\n",
    "#insert_query = '''INSERT INTO abcde VALUES(\"Divya\" , \"Gavandi\", 9)'''------------------sql pattern inserting\n",
    "#c.execute(insert_query)\n",
    "#-----------------------------------------------------------------------------------------------------------\n",
    "\n",
    "\n",
    "#-------------------------------------python pattern inserting-------------------------------------\n",
    "data = (\"Disha\" , \"Kotian\", 9)\n",
    "query = \"INSERT INTO abcde VALUES(?,?,?)\"\n",
    "c.execute(query, data)\n",
    "#commit changes\n",
    "conn.commit()\n",
    "#close connection\n",
    "conn.close()\n"
   ]
  },
  {
   "cell_type": "code",
   "execution_count": 13,
   "metadata": {},
   "outputs": [
    {
     "ename": "TypeError",
     "evalue": "unsupported operand type(s) for +=: 'int' and 'str'",
     "output_type": "error",
     "traceback": [
      "\u001b[1;31m---------------------------------------------------------------------------\u001b[0m",
      "\u001b[1;31mTypeError\u001b[0m                                 Traceback (most recent call last)",
      "\u001b[1;32m<ipython-input-13-9696bafa8742>\u001b[0m in \u001b[0;36m<module>\u001b[1;34m\u001b[0m\n\u001b[0;32m     16\u001b[0m \u001b[1;32mfor\u001b[0m \u001b[0mperson\u001b[0m \u001b[1;32min\u001b[0m \u001b[0mpeople\u001b[0m\u001b[1;33m:\u001b[0m\u001b[1;33m\u001b[0m\u001b[1;33m\u001b[0m\u001b[0m\n\u001b[0;32m     17\u001b[0m     \u001b[1;31m#c.execute(query,person)\u001b[0m\u001b[1;33m\u001b[0m\u001b[1;33m\u001b[0m\u001b[1;33m\u001b[0m\u001b[0m\n\u001b[1;32m---> 18\u001b[1;33m     \u001b[0maverage\u001b[0m \u001b[1;33m+=\u001b[0m \u001b[0mperson\u001b[0m\u001b[1;33m[\u001b[0m\u001b[1;36m0\u001b[0m\u001b[1;33m]\u001b[0m\u001b[1;33m\u001b[0m\u001b[1;33m\u001b[0m\u001b[0m\n\u001b[0m\u001b[0;32m     19\u001b[0m \u001b[0mprint\u001b[0m\u001b[1;33m(\u001b[0m\u001b[0maverage\u001b[0m\u001b[1;33m/\u001b[0m\u001b[0mlen\u001b[0m\u001b[1;33m(\u001b[0m\u001b[0mpeople\u001b[0m\u001b[1;33m)\u001b[0m\u001b[1;33m)\u001b[0m\u001b[1;33m\u001b[0m\u001b[1;33m\u001b[0m\u001b[0m\n\u001b[0;32m     20\u001b[0m \u001b[1;33m\u001b[0m\u001b[0m\n",
      "\u001b[1;31mTypeError\u001b[0m: unsupported operand type(s) for +=: 'int' and 'str'"
     ]
    }
   ],
   "source": [
    "#-------------------------multiple bulk insertion ---------------------------------------------------------\n",
    "import sqlite3\n",
    "conn = sqlite3.connect(\"my_friends.db\")\n",
    "\n",
    "c = conn.cursor()\n",
    "#-------------------------------------------inserting using excecutemany()------------------------1st way\n",
    "people = [(\"Neelam\",\"Gujar\",8),\n",
    "          (\"Anjali\",\"Parekal\",6),\n",
    "          (\"Shubham\",\"Shinde\",5),\n",
    "          (\"Adtit\",\"Choukekar\",9),\n",
    "          (\"Omkar\",\"shevkar\",10)]\n",
    "query = \"INSERT INTO abcde VALUES(?,?,?)\"\n",
    "c.executemany(query,people)\n",
    "#------------------------------------------------------uing for--------------------------------------2nd way\n",
    "average = 0\n",
    "for person in people:\n",
    "    #c.execute(query,person)\n",
    "    average += person[0]\n",
    "print(average/len(people))\n",
    "\n",
    "#------------------------------------------------------------------------------------------------------\n",
    "\n",
    "\n",
    "#commit changes\n",
    "conn.commit()\n",
    "#close connection\n",
    "conn.close()"
   ]
  },
  {
   "cell_type": "code",
   "execution_count": 28,
   "metadata": {},
   "outputs": [
    {
     "name": "stdout",
     "output_type": "stream",
     "text": [
      "[('Neelam', 'Gujar', 8), ('Neelam', 'Gujar', 8), ('Anjali', 'Parekal', 6), ('Anjali', 'Parekal', 6), ('Shubham', 'Shinde', 5), ('Shubham', 'Shinde', 5)]\n"
     ]
    }
   ],
   "source": [
    "import sqlite3\n",
    "conn = sqlite3.connect(\"my_friends.db\")\n",
    "\n",
    "c = conn.cursor()\n",
    "c.execute(\"SELECT * FROM abcde where closeness < 9 order by closeness desc\")\n",
    "#---------------------------------------------1st way\n",
    "#for result in c:\n",
    "#   print(result)\n",
    "#---------------------------------------------\n",
    "print(c.fetchall())#-------------------------for getting list printed----------------2nd way\n",
    "conn.commit()\n",
    "conn.close()"
   ]
  },
  {
   "cell_type": "code",
   "execution_count": 43,
   "metadata": {},
   "outputs": [
    {
     "name": "stdout",
     "output_type": "stream",
     "text": [
      "Enter your username........Divya\n",
      "Plaease enter you password........' OR 1=1\n",
      "Login failed\n"
     ]
    }
   ],
   "source": [
    "#------sql injection----------------------------------------\n",
    "\n",
    "import sqlite3\n",
    "conn = sqlite3.connect(\"users.db\")\n",
    "\n",
    "\n",
    "#c.execute(\"CREATE TABLE users(username TEXT, password TEXT);\")\n",
    "\n",
    "#ussey = [(\"Divya\",\"d190399\"),\n",
    "#        (\"Disha\",\"best19\"),\n",
    "#        (\"Palak\",\"palak123\"),]\n",
    "#q = \"INSERT INTO users VALUES(?,?)\"\n",
    "\n",
    "\n",
    "uname = input(\"Enter your username........\")\n",
    "pname = input(\"Plaease enter you password........\")\n",
    "\n",
    "#que = f\"SELECT * FROM users where username = '{uname}' and password = '{pname}'\"------------bad idea\n",
    "c = conn.cursor()\n",
    "que = f\"SELECT * FROM users where username = ? and password = ?\"\n",
    "#c.execute(que)-------bad idea\n",
    "c.execute(que,(uname,pname))\n",
    "result = c.fetchone()\n",
    "\n",
    "if(result):\n",
    "    print(\"Login successfully\")\n",
    "else:\n",
    "    print(\"Login failed\")\n",
    "\n",
    "#c.executemany(q,ussey)\n",
    "conn.commit()\n",
    "conn.close()"
   ]
  },
  {
   "cell_type": "code",
   "execution_count": null,
   "metadata": {},
   "outputs": [],
   "source": []
  }
 ],
 "metadata": {
  "kernelspec": {
   "display_name": "Python 3",
   "language": "python",
   "name": "python3"
  },
  "language_info": {
   "codemirror_mode": {
    "name": "ipython",
    "version": 3
   },
   "file_extension": ".py",
   "mimetype": "text/x-python",
   "name": "python",
   "nbconvert_exporter": "python",
   "pygments_lexer": "ipython3",
   "version": "3.7.3"
  }
 },
 "nbformat": 4,
 "nbformat_minor": 2
}
